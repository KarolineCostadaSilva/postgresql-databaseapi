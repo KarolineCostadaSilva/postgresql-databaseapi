{
  "cells": [
    {
      "cell_type": "markdown",
      "metadata": {
        "id": "view-in-github",
        "colab_type": "text"
      },
      "source": [
        "<a href=\"https://colab.research.google.com/github/KarolineCostadaSilva/postgresql-databaseapi/blob/main/Tratamento_de_Dados_CSV.ipynb\" target=\"_parent\"><img src=\"https://colab.research.google.com/assets/colab-badge.svg\" alt=\"Open In Colab\"/></a>"
      ]
    },
    {
      "cell_type": "code",
      "execution_count": null,
      "id": "5ee904b3",
      "metadata": {
        "id": "5ee904b3"
      },
      "outputs": [],
      "source": [
        "import pandas as pd\n",
        "\n",
        "dados = pd.read_csv('vw_projeto_estoque_202308031734.csv')"
      ]
    },
    {
      "cell_type": "code",
      "execution_count": null,
      "id": "e9505ab7",
      "metadata": {
        "id": "e9505ab7",
        "outputId": "5e78d109-c402-4167-8555-d8263532f7ca"
      },
      "outputs": [
        {
          "data": {
            "text/html": [
              "<div>\n",
              "<style scoped>\n",
              "    .dataframe tbody tr th:only-of-type {\n",
              "        vertical-align: middle;\n",
              "    }\n",
              "\n",
              "    .dataframe tbody tr th {\n",
              "        vertical-align: top;\n",
              "    }\n",
              "\n",
              "    .dataframe thead th {\n",
              "        text-align: right;\n",
              "    }\n",
              "</style>\n",
              "<table border=\"1\" class=\"dataframe\">\n",
              "  <thead>\n",
              "    <tr style=\"text-align: right;\">\n",
              "      <th></th>\n",
              "      <th>lote_id</th>\n",
              "      <th>item_id</th>\n",
              "      <th>validade</th>\n",
              "      <th>qtde_disponivel</th>\n",
              "    </tr>\n",
              "  </thead>\n",
              "  <tbody>\n",
              "    <tr>\n",
              "      <th>0</th>\n",
              "      <td>621</td>\n",
              "      <td>97087</td>\n",
              "      <td>2026-08-19</td>\n",
              "      <td>0</td>\n",
              "    </tr>\n",
              "    <tr>\n",
              "      <th>1</th>\n",
              "      <td>3039</td>\n",
              "      <td>400374</td>\n",
              "      <td>2023-08-30</td>\n",
              "      <td>0</td>\n",
              "    </tr>\n",
              "    <tr>\n",
              "      <th>2</th>\n",
              "      <td>9098</td>\n",
              "      <td>7200</td>\n",
              "      <td>3023-02-15</td>\n",
              "      <td>0</td>\n",
              "    </tr>\n",
              "    <tr>\n",
              "      <th>3</th>\n",
              "      <td>10938</td>\n",
              "      <td>89687</td>\n",
              "      <td>2023-10-31</td>\n",
              "      <td>0</td>\n",
              "    </tr>\n",
              "    <tr>\n",
              "      <th>4</th>\n",
              "      <td>6681</td>\n",
              "      <td>400551</td>\n",
              "      <td>2023-02-28</td>\n",
              "      <td>0</td>\n",
              "    </tr>\n",
              "  </tbody>\n",
              "</table>\n",
              "</div>"
            ],
            "text/plain": [
              "   lote_id  item_id    validade  qtde_disponivel\n",
              "0      621    97087  2026-08-19                0\n",
              "1     3039   400374  2023-08-30                0\n",
              "2     9098     7200  3023-02-15                0\n",
              "3    10938    89687  2023-10-31                0\n",
              "4     6681   400551  2023-02-28                0"
            ]
          },
          "execution_count": 2,
          "metadata": {},
          "output_type": "execute_result"
        }
      ],
      "source": [
        "dados.head()"
      ]
    },
    {
      "cell_type": "code",
      "execution_count": null,
      "id": "bb9263d4",
      "metadata": {
        "id": "bb9263d4",
        "outputId": "58af264f-2705-4fbb-90f1-a13996ede81a"
      },
      "outputs": [
        {
          "data": {
            "text/plain": [
              "lote_id            False\n",
              "item_id            False\n",
              "validade           False\n",
              "qtde_disponivel    False\n",
              "dtype: bool"
            ]
          },
          "execution_count": 3,
          "metadata": {},
          "output_type": "execute_result"
        }
      ],
      "source": [
        "dados.isnull().any()"
      ]
    }
  ],
  "metadata": {
    "kernelspec": {
      "display_name": "Python 3 (ipykernel)",
      "language": "python",
      "name": "python3"
    },
    "language_info": {
      "codemirror_mode": {
        "name": "ipython",
        "version": 3
      },
      "file_extension": ".py",
      "mimetype": "text/x-python",
      "name": "python",
      "nbconvert_exporter": "python",
      "pygments_lexer": "ipython3",
      "version": "3.9.13"
    },
    "colab": {
      "provenance": [],
      "include_colab_link": true
    }
  },
  "nbformat": 4,
  "nbformat_minor": 5
}